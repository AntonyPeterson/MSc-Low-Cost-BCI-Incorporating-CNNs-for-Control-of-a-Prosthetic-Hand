{
 "cells": [
  {
   "cell_type": "code",
   "execution_count": 1,
   "metadata": {},
   "outputs": [],
   "source": [
    "import numpy as np\n",
    "import pandas as pd\n",
    "import tensorflow as tf\n",
    "import os\n",
    "import matplotlib.pyplot as plt\n",
    "import keras_tuner as kt\n",
    "from scipy import signal\n",
    "import scipy.io as sio\n",
    "from tensorflow.keras.utils import to_categorical\n",
    "from tensorflow.keras.models import Sequential\n",
    "from tensorflow.keras.layers import Dense, Conv2D, MaxPool2D, Flatten, BatchNormalization, Dropout, Lambda, AveragePooling2D, Softmax, ReLU, Activation\n",
    "from sklearn.model_selection import train_test_split\n",
    "from tensorflow.keras.callbacks import EarlyStopping\n",
    "from sklearn.metrics import classification_report, confusion_matrix, ConfusionMatrixDisplay\n",
    "import time\n",
    "from math import floor,inf\n",
    "from sklearn.utils import shuffle"
   ]
  },
  {
   "cell_type": "code",
   "execution_count": 2,
   "metadata": {},
   "outputs": [],
   "source": [
    "data_folder = 'BBCI competition IV 2a'  ###location of .mat files for each subject, change file path if running notebook from...\n",
    "                                        ###...different directory to data folder\n",
    "subject_files = os.listdir(data_folder)"
   ]
  },
  {
   "cell_type": "code",
   "execution_count": 3,
   "metadata": {},
   "outputs": [
    {
     "data": {
      "text/plain": [
       "['A01E.mat',\n",
       " 'A01T.mat',\n",
       " 'A02E.mat',\n",
       " 'A02T.mat',\n",
       " 'A03E.mat',\n",
       " 'A03T.mat',\n",
       " 'A04E.mat',\n",
       " 'A04T.mat',\n",
       " 'A05E.mat',\n",
       " 'A05T.mat',\n",
       " 'A06E.mat',\n",
       " 'A06T.mat',\n",
       " 'A07E.mat',\n",
       " 'A07T.mat',\n",
       " 'A08E.mat',\n",
       " 'A08T.mat',\n",
       " 'A09E.mat',\n",
       " 'A09T.mat']"
      ]
     },
     "execution_count": 3,
     "metadata": {},
     "output_type": "execute_result"
    }
   ],
   "source": [
    "subject_files"
   ]
  },
  {
   "cell_type": "code",
   "execution_count": 14,
   "metadata": {},
   "outputs": [],
   "source": [
    "####Create dataset of only the 4s in the trials where MI was being performed.\n",
    "def create_4sec_data(subject,dataset):\n",
    "    data_folder = 'BBCI competition IV 2a'\n",
    "    file = 'A0' + str(subject) + dataset[0] + '.mat'\n",
    "    file_path = os.path.join(data_folder, file )\n",
    "    print(file_path)\n",
    "    data = sio.loadmat(file_path)['data']\n",
    "    x=[]\n",
    "    y=[]\n",
    "    if file == 'A04T.mat':\n",
    "        lower_lim = 1\n",
    "        upper_lim = 7\n",
    "    else:\n",
    "        lower_lim = 3\n",
    "        upper_lim = 9\n",
    "    for s in range(lower_lim, upper_lim):\n",
    "        eeg = pd.DataFrame(np.transpose(data[0,s][0,0][0])[:22])\n",
    "        cues = data[0,s][0,0][1]\n",
    "        mi = data[0,s][0,0][2]\n",
    "        for i in range(48):\n",
    "            start = cues[i][0] + 500\n",
    "            end = start + 1000\n",
    "            mi_data = eeg.iloc[:,start:end]\n",
    "            x.append(np.array(mi_data))\n",
    "            if mi[i][0] == 3:\n",
    "                y.append(0)\n",
    "            elif mi[i][0] == 4:\n",
    "                y.append(3)\n",
    "            else:\n",
    "                y.append(mi[i][0])\n",
    "            \n",
    "    return np.array(x), np.array(y)"
   ]
  },
  {
   "cell_type": "code",
   "execution_count": 15,
   "metadata": {},
   "outputs": [],
   "source": [
    "###Function to segment and filter 4s data into 2s segments\n",
    "def filt_and_seg(x_4sec, y_4sec, samples, overlap):\n",
    "    unique = floor((1-overlap)*samples)\n",
    "    b,a = signal.butter(2, Wn = [48,52], btype = 'bandstop', fs = 250)\n",
    "    d,c = signal.butter(2, Wn = [4,38], btype = 'bandpass', fs = 250)\n",
    "    x=[]\n",
    "    y=[]\n",
    "    count = 0\n",
    "    for trial in x_4sec:\n",
    "        data = trial\n",
    "        label = y_4sec[count]\n",
    "        for div in range(int(data.size//(data.shape[0]*unique))):\n",
    "            if div*unique +samples <= data.size/data.shape[0]:\n",
    "                array = np.ndarray((22,samples))\n",
    "                for i in range(22):\n",
    "                    notch_filt = signal.filtfilt(b,a, data[i][div*unique:div*unique + samples], padtype='even')\n",
    "                    bp_filt = signal.filtfilt(d,c, notch_filt, padtype='even')\n",
    "                    array[i] = bp_filt\n",
    "                x.append(array)\n",
    "                y.append(label)\n",
    "        count+=1\n",
    "    x=np.array(x)\n",
    "    x=x.reshape(x.shape[0],x.shape[1],x.shape[2],1)\n",
    "    x, y = shuffle(x,y, random_state=42)\n",
    "    return x,y"
   ]
  },
  {
   "cell_type": "code",
   "execution_count": null,
   "metadata": {},
   "outputs": [],
   "source": [
    "#######TUNING##########"
   ]
  },
  {
   "cell_type": "code",
   "execution_count": 34,
   "metadata": {},
   "outputs": [
    {
     "name": "stdout",
     "output_type": "stream",
     "text": [
      "BBCI competition IV 2a\\A09T.mat\n",
      "BBCI competition IV 2a\\A09E.mat\n"
     ]
    }
   ],
   "source": [
    "subject = 9     #####no loop was used, manually change from 1 to 9 to tune models for each subject\n",
    "x1T, y1T= create_4sec_data(subject,'T')\n",
    "x1E, y1E= create_4sec_data(subject,'E')\n",
    "x1_train, y1_train = filt_and_seg(x1T,y1T, 500, 0.90)\n",
    "x1_val, y1_val = filt_and_seg(x1E,y1E, 500, 0.90)\n",
    "y1_cat_train = to_categorical(y1_train)\n",
    "y1_cat_val = to_categorical(y1_val)"
   ]
  },
  {
   "cell_type": "code",
   "execution_count": 35,
   "metadata": {},
   "outputs": [],
   "source": [
    "####  MODEL BUILDER with hyperparameter search spaces ####\n",
    "def build_model(hp):\n",
    "    model = Sequential()\n",
    "    \n",
    "    hp_filters = hp.Int('Filters', min_value=10,max_value=160,step=10)\n",
    "    hp_kern_len = hp.Int('Kernel1 Length', min_value=10, max_value=250, step=10)\n",
    "    model.add(Conv2D(filters=hp_filters, kernel_size=(1,hp_kern_len), input_shape=(x1_train.shape[1],x1_train.shape[2],1))) #, activation = 'relu'))\n",
    "    model.add(Conv2D(filters=hp_filters, kernel_size=(22,1), activation = 'elu'))\n",
    "    hp_momentum = hp.Float('Momentum', min_value=0.05, max_value=0.95, step=0.05)\n",
    "    model.add(BatchNormalization(momentum=hp_momentum, epsilon = 1e-05))\n",
    "    model.add(Lambda(lambda x: x**2))\n",
    "    hp_pool_len = hp.Int('Pooling Length', min_value=10, max_value=250, step=10)\n",
    "    hp_strides = hp.Int('Pooling Strides', min_value = 5, max_value=50, step=5)\n",
    "    model.add(AveragePooling2D(pool_size=(1,hp_pool_len),strides=hp_strides))\n",
    "    \n",
    "    model.add(Lambda(lambda x: tf.math.log(tf.clip_by_value(x, 1e-6, inf))))\n",
    "    hp_dropout = hp.Float('Dropout Rate', min_value=0.1, max_value=0.9, step = 0.1)\n",
    "    model.add(Dropout(hp_dropout))\n",
    "    \n",
    "    '''model.add(Conv2D(filters=4, kernel_size=(1,69))) #, activation = 'relu'))       \n",
    "    \n",
    "    model.add(Softmax())\n",
    "    \n",
    "    model.add(Lambda(lambda x: tf.squeeze(x, [1,2])))'''\n",
    "    \n",
    "    model.add(Flatten())\n",
    "    \n",
    "    model.add(Dense(4, activation = 'softmax'))\n",
    "    \n",
    "    loss_fn = 'categorical_crossentropy'\n",
    "    \n",
    "    hp_learn_rate = hp.Choice('Learning Rate', values=[1e-1,1e-2,1e-3,1e-4,1e-5,1e-6])\n",
    "    \n",
    "    \n",
    "    adam = tf.keras.optimizers.Adam(learning_rate=hp_learn_rate)\n",
    "    model.compile(loss = loss_fn, optimizer=adam, metrics=['accuracy'], )  # other metrics at keras.io/metrics\n",
    "    \n",
    "    return model"
   ]
  },
  {
   "cell_type": "code",
   "execution_count": 40,
   "metadata": {},
   "outputs": [
    {
     "name": "stdout",
     "output_type": "stream",
     "text": [
      "INFO:tensorflow:Reloading Oracle from existing project C:\\Users\\Anthony\\OneDrive - University of Witwatersrand\\2020 MASTERS\\GUI\\TunedCNN-4class MI- BCI Comp S9\\oracle.json\n",
      "INFO:tensorflow:Reloading Tuner from C:\\Users\\Anthony\\OneDrive - University of Witwatersrand\\2020 MASTERS\\GUI\\TunedCNN-4class MI- BCI Comp S9\\tuner0.json\n"
     ]
    }
   ],
   "source": [
    "####Initialise tuner\n",
    "tuner = kt.Hyperband(build_model,\n",
    "                     objective = 'val_accuracy', \n",
    "                     max_epochs = 500,\n",
    "                     factor = 3,\n",
    "                     directory=os.getcwd(),\n",
    "                     project_name = 'TunedCNN-4class MI- BCI Comp S' + str(subject)) ##Folder name to save tuning results"
   ]
  },
  {
   "cell_type": "code",
   "execution_count": 41,
   "metadata": {},
   "outputs": [
    {
     "name": "stdout",
     "output_type": "stream",
     "text": [
      "Search space summary\n",
      "Default search space size: 7\n",
      "Filters (Int)\n",
      "{'default': None, 'conditions': [], 'min_value': 10, 'max_value': 160, 'step': 10, 'sampling': None}\n",
      "Kernel1 Length (Int)\n",
      "{'default': None, 'conditions': [], 'min_value': 10, 'max_value': 250, 'step': 10, 'sampling': None}\n",
      "Momentum (Float)\n",
      "{'default': 0.05, 'conditions': [], 'min_value': 0.05, 'max_value': 0.95, 'step': 0.05, 'sampling': None}\n",
      "Pooling Length (Int)\n",
      "{'default': None, 'conditions': [], 'min_value': 10, 'max_value': 250, 'step': 10, 'sampling': None}\n",
      "Pooling Strides (Int)\n",
      "{'default': None, 'conditions': [], 'min_value': 5, 'max_value': 50, 'step': 5, 'sampling': None}\n",
      "Dropout Rate (Float)\n",
      "{'default': 0.1, 'conditions': [], 'min_value': 0.1, 'max_value': 0.9, 'step': 0.1, 'sampling': None}\n",
      "Learning Rate (Choice)\n",
      "{'default': 0.1, 'conditions': [], 'values': [0.1, 0.01, 0.001, 0.0001, 1e-05, 1e-06], 'ordered': True}\n"
     ]
    }
   ],
   "source": [
    "####Summary of hyperparameter search spaces\n",
    "tuner.search_space_summary()"
   ]
  },
  {
   "cell_type": "code",
   "execution_count": 42,
   "metadata": {},
   "outputs": [],
   "source": [
    "early_stop = EarlyStopping(monitor='val_loss', patience=50, restore_best_weights=True)"
   ]
  },
  {
   "cell_type": "code",
   "execution_count": 43,
   "metadata": {},
   "outputs": [
    {
     "name": "stdout",
     "output_type": "stream",
     "text": [
      "Trial 726 Complete [00h 09m 04s]\n",
      "val_accuracy: 0.5950126051902771\n",
      "\n",
      "Best val_accuracy So Far: 0.7490530014038086\n",
      "Total elapsed time: 03h 30m 18s\n",
      "INFO:tensorflow:Oracle triggered exit\n"
     ]
    }
   ],
   "source": [
    "####Tuning\n",
    "tuner.search(x1_train,y1_cat_train, epochs = 300, validation_data=(x1_val,y1_cat_val), callbacks = [early_stop], verbose=2)"
   ]
  },
  {
   "cell_type": "code",
   "execution_count": 44,
   "metadata": {},
   "outputs": [
    {
     "name": "stdout",
     "output_type": "stream",
     "text": [
      "WARNING:tensorflow:Unresolved object in checkpoint: (root).optimizer.iter\n",
      "WARNING:tensorflow:Unresolved object in checkpoint: (root).optimizer.beta_1\n",
      "WARNING:tensorflow:Unresolved object in checkpoint: (root).optimizer.beta_2\n",
      "WARNING:tensorflow:Unresolved object in checkpoint: (root).optimizer.decay\n",
      "WARNING:tensorflow:Unresolved object in checkpoint: (root).optimizer.learning_rate\n",
      "WARNING:tensorflow:A checkpoint was restored (e.g. tf.train.Checkpoint.restore or tf.keras.Model.load_weights) but not all checkpointed values were used. See above for specific issues. Use expect_partial() on the load status object, e.g. tf.train.Checkpoint.restore(...).expect_partial(), to silence these warnings, or use assert_consumed() to make the check explicit. See https://www.tensorflow.org/guide/checkpoint#loading_mechanics for details.\n",
      "Model: \"sequential\"\n",
      "_________________________________________________________________\n",
      "Layer (type)                 Output Shape              Param #   \n",
      "=================================================================\n",
      "conv2d (Conv2D)              (None, 22, 491, 50)       550       \n",
      "_________________________________________________________________\n",
      "conv2d_1 (Conv2D)            (None, 1, 491, 50)        55050     \n",
      "_________________________________________________________________\n",
      "batch_normalization (BatchNo (None, 1, 491, 50)        200       \n",
      "_________________________________________________________________\n",
      "lambda (Lambda)              (None, 1, 491, 50)        0         \n",
      "_________________________________________________________________\n",
      "average_pooling2d (AveragePo (None, 1, 9, 50)          0         \n",
      "_________________________________________________________________\n",
      "lambda_1 (Lambda)            (None, 1, 9, 50)          0         \n",
      "_________________________________________________________________\n",
      "dropout (Dropout)            (None, 1, 9, 50)          0         \n",
      "_________________________________________________________________\n",
      "flatten (Flatten)            (None, 450)               0         \n",
      "_________________________________________________________________\n",
      "dense (Dense)                (None, 4)                 1804      \n",
      "=================================================================\n",
      "Total params: 57,604\n",
      "Trainable params: 57,504\n",
      "Non-trainable params: 100\n",
      "_________________________________________________________________\n"
     ]
    }
   ],
   "source": [
    "best_model = tuner.get_best_models(num_models=1)[0]\n",
    "best_model.summary()"
   ]
  },
  {
   "cell_type": "code",
   "execution_count": 45,
   "metadata": {},
   "outputs": [],
   "source": [
    "#####Examples to get best hyperparameters\n",
    "best_hps = tuner.get_best_hyperparameters(num_trials=2)[0]"
   ]
  },
  {
   "cell_type": "code",
   "execution_count": 46,
   "metadata": {},
   "outputs": [
    {
     "data": {
      "text/plain": [
       "0.001"
      ]
     },
     "execution_count": 46,
     "metadata": {},
     "output_type": "execute_result"
    }
   ],
   "source": [
    "best_hps['Learning Rate']"
   ]
  },
  {
   "cell_type": "code",
   "execution_count": 47,
   "metadata": {},
   "outputs": [
    {
     "data": {
      "text/plain": [
       "0.1"
      ]
     },
     "execution_count": 47,
     "metadata": {},
     "output_type": "execute_result"
    }
   ],
   "source": [
    "best_hps['Momentum']"
   ]
  },
  {
   "cell_type": "code",
   "execution_count": 49,
   "metadata": {},
   "outputs": [
    {
     "name": "stdout",
     "output_type": "stream",
     "text": [
      "Results summary\n",
      "Results in C:\\Users\\Anthony\\OneDrive - University of Witwatersrand\\2020 MASTERS\\GUI\\TunedCNN-4class MI- BCI Comp S9\n",
      "Showing 10 best trials\n",
      "Objective(name='val_accuracy', direction='max')\n",
      "Trial summary\n",
      "Hyperparameters:\n",
      "Filters: 50\n",
      "Kernel1 Length: 10\n",
      "Momentum: 0.1\n",
      "Pooling Length: 90\n",
      "Pooling Strides: 45\n",
      "Dropout Rate: 0.7000000000000001\n",
      "Learning Rate: 0.001\n",
      "tuner/epochs: 167\n",
      "tuner/initial_epoch: 56\n",
      "tuner/bracket: 5\n",
      "tuner/round: 4\n",
      "tuner/trial_id: 42f568271255d80c4ae4f58fdcf59a7e\n",
      "Score: 0.7490530014038086\n",
      "Trial summary\n",
      "Hyperparameters:\n",
      "Filters: 50\n",
      "Kernel1 Length: 10\n",
      "Momentum: 0.1\n",
      "Pooling Length: 90\n",
      "Pooling Strides: 45\n",
      "Dropout Rate: 0.7000000000000001\n",
      "Learning Rate: 0.001\n",
      "tuner/epochs: 56\n",
      "tuner/initial_epoch: 19\n",
      "tuner/bracket: 5\n",
      "tuner/round: 3\n",
      "tuner/trial_id: dab9ce84f1f3dc228b116f255127aa97\n",
      "Score: 0.747474730014801\n",
      "Trial summary\n",
      "Hyperparameters:\n",
      "Filters: 50\n",
      "Kernel1 Length: 10\n",
      "Momentum: 0.1\n",
      "Pooling Length: 90\n",
      "Pooling Strides: 45\n",
      "Dropout Rate: 0.7000000000000001\n",
      "Learning Rate: 0.001\n",
      "tuner/epochs: 500\n",
      "tuner/initial_epoch: 167\n",
      "tuner/bracket: 5\n",
      "tuner/round: 5\n",
      "tuner/trial_id: 8acea07139f6d53e21affb16cb240571\n",
      "Score: 0.7468434572219849\n",
      "Trial summary\n",
      "Hyperparameters:\n",
      "Filters: 80\n",
      "Kernel1 Length: 30\n",
      "Momentum: 0.15000000000000002\n",
      "Pooling Length: 30\n",
      "Pooling Strides: 35\n",
      "Dropout Rate: 0.4\n",
      "Learning Rate: 0.0001\n",
      "tuner/epochs: 167\n",
      "tuner/initial_epoch: 0\n",
      "tuner/bracket: 1\n",
      "tuner/round: 0\n",
      "Score: 0.7354797720909119\n",
      "Trial summary\n",
      "Hyperparameters:\n",
      "Filters: 80\n",
      "Kernel1 Length: 40\n",
      "Momentum: 0.45\n",
      "Pooling Length: 220\n",
      "Pooling Strides: 40\n",
      "Dropout Rate: 0.4\n",
      "Learning Rate: 0.0001\n",
      "tuner/epochs: 500\n",
      "tuner/initial_epoch: 167\n",
      "tuner/bracket: 5\n",
      "tuner/round: 5\n",
      "tuner/trial_id: 5203af28d4824cc19b742104c77b71e6\n",
      "Score: 0.7332702279090881\n",
      "Trial summary\n",
      "Hyperparameters:\n",
      "Filters: 160\n",
      "Kernel1 Length: 90\n",
      "Momentum: 0.15000000000000002\n",
      "Pooling Length: 50\n",
      "Pooling Strides: 20\n",
      "Dropout Rate: 0.6\n",
      "Learning Rate: 0.1\n",
      "tuner/epochs: 500\n",
      "tuner/initial_epoch: 167\n",
      "tuner/bracket: 2\n",
      "tuner/round: 2\n",
      "tuner/trial_id: 331b1322d316e8cc6ff2039e8c8d66bb\n",
      "Score: 0.7323232293128967\n",
      "Trial summary\n",
      "Hyperparameters:\n",
      "Filters: 50\n",
      "Kernel1 Length: 10\n",
      "Momentum: 0.4\n",
      "Pooling Length: 250\n",
      "Pooling Strides: 25\n",
      "Dropout Rate: 0.8\n",
      "Learning Rate: 0.001\n",
      "tuner/epochs: 56\n",
      "tuner/initial_epoch: 19\n",
      "tuner/bracket: 4\n",
      "tuner/round: 2\n",
      "tuner/trial_id: e54bd46d8f8b6110a0e8b2862a16429c\n",
      "Score: 0.7313762903213501\n",
      "Trial summary\n",
      "Hyperparameters:\n",
      "Filters: 50\n",
      "Kernel1 Length: 10\n",
      "Momentum: 0.4\n",
      "Pooling Length: 250\n",
      "Pooling Strides: 25\n",
      "Dropout Rate: 0.8\n",
      "Learning Rate: 0.001\n",
      "tuner/epochs: 500\n",
      "tuner/initial_epoch: 167\n",
      "tuner/bracket: 4\n",
      "tuner/round: 4\n",
      "tuner/trial_id: b8634c54e616ae221261c3571a44b28c\n",
      "Score: 0.7288510203361511\n",
      "Trial summary\n",
      "Hyperparameters:\n",
      "Filters: 160\n",
      "Kernel1 Length: 30\n",
      "Momentum: 0.25\n",
      "Pooling Length: 180\n",
      "Pooling Strides: 40\n",
      "Dropout Rate: 0.30000000000000004\n",
      "Learning Rate: 0.0001\n",
      "tuner/epochs: 500\n",
      "tuner/initial_epoch: 167\n",
      "tuner/bracket: 3\n",
      "tuner/round: 3\n",
      "tuner/trial_id: 2c49766825b7e2b38890ef65c83469f7\n",
      "Score: 0.7282196879386902\n",
      "Trial summary\n",
      "Hyperparameters:\n",
      "Filters: 80\n",
      "Kernel1 Length: 30\n",
      "Momentum: 0.15000000000000002\n",
      "Pooling Length: 30\n",
      "Pooling Strides: 35\n",
      "Dropout Rate: 0.4\n",
      "Learning Rate: 0.0001\n",
      "tuner/epochs: 500\n",
      "tuner/initial_epoch: 167\n",
      "tuner/bracket: 1\n",
      "tuner/round: 1\n",
      "tuner/trial_id: ac79ab6ba817c82f75b1f674405b1794\n",
      "Score: 0.7266414165496826\n"
     ]
    }
   ],
   "source": [
    "###Tuning results showing hyperparameters and accuracies for 10 best models\n",
    "tuner.results_summary()"
   ]
  },
  {
   "cell_type": "code",
   "execution_count": null,
   "metadata": {},
   "outputs": [],
   "source": []
  }
 ],
 "metadata": {
  "kernelspec": {
   "display_name": "Python 3",
   "language": "python",
   "name": "python3"
  },
  "language_info": {
   "codemirror_mode": {
    "name": "ipython",
    "version": 3
   },
   "file_extension": ".py",
   "mimetype": "text/x-python",
   "name": "python",
   "nbconvert_exporter": "python",
   "pygments_lexer": "ipython3",
   "version": "3.7.4"
  }
 },
 "nbformat": 4,
 "nbformat_minor": 4
}
