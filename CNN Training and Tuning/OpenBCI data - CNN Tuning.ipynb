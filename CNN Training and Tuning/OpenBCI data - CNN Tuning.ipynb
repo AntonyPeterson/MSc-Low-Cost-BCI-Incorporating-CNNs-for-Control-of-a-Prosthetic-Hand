{
 "cells": [
  {
   "cell_type": "code",
   "execution_count": 1,
   "metadata": {},
   "outputs": [],
   "source": [
    "import numpy as np\n",
    "import pandas as pd\n",
    "import tensorflow as tf\n",
    "import os\n",
    "import matplotlib.pyplot as plt\n",
    "from scipy import signal\n",
    "from tensorflow.keras.utils import to_categorical\n",
    "from tensorflow.keras.models import Sequential\n",
    "from tensorflow.keras.layers import Dense, Conv2D, MaxPool2D, Flatten, BatchNormalization, Dropout, Lambda, AveragePooling2D, Softmax, ReLU, Activation\n",
    "from sklearn.model_selection import train_test_split\n",
    "from tensorflow.keras.callbacks import EarlyStopping\n",
    "from sklearn.metrics import classification_report, confusion_matrix\n",
    "import time\n",
    "from math import floor,inf\n",
    "from sklearn.utils import shuffle\n",
    "import keras_tuner as kt\n",
    "from tensorflow import keras"
   ]
  },
  {
   "cell_type": "code",
   "execution_count": 2,
   "metadata": {},
   "outputs": [
    {
     "name": "stdout",
     "output_type": "stream",
     "text": [
      "Num GPUs Available:  1\n"
     ]
    }
   ],
   "source": [
    "###Check to see if GPU was available\n",
    "print(\"Num GPUs Available: \", len(tf.config.list_physical_devices('GPU')))"
   ]
  },
  {
   "cell_type": "code",
   "execution_count": null,
   "metadata": {},
   "outputs": [],
   "source": [
    "###Enter tasks to be classified as a list e.g. left hand and right hand MI\n",
    "labels = ['Left Hand', 'Right Hand']"
   ]
  },
  {
   "cell_type": "code",
   "execution_count": 4,
   "metadata": {},
   "outputs": [],
   "source": [
    "###Maps class labels to numbers starting from 0\n",
    "def map_labels(label):\n",
    "    for i in range(len(labels)):\n",
    "        if label == labels[i]:\n",
    "            label = i\n",
    "    return label"
   ]
  },
  {
   "cell_type": "code",
   "execution_count": 5,
   "metadata": {},
   "outputs": [],
   "source": [
    "###Function to process raw EEG data and create training and validation datasets\n",
    "def create_data(data_folder, filtered, samples, overlap, classes):\n",
    "    b,a = signal.butter(2, Wn = [48,52], btype = 'bandstop', fs = 250)\n",
    "    d,c = signal.butter(2, Wn = [4,38], btype = 'bandpass', fs = 250)\n",
    "    \n",
    "    data_dir = os.path.join(os.getcwd(),data_folder)\n",
    "    \n",
    "    mi_tasks=classes\n",
    "    \n",
    "    directories = {}\n",
    "    for i in range(len(mi_tasks)):\n",
    "        directories[mi_tasks[i]] = data_dir + '\\\\' + mi_tasks[i]\n",
    "\n",
    "    samples = samples\n",
    "    overlap = overlap\n",
    "    unique = floor((1-overlap)*samples)\n",
    "    x=[]\n",
    "    y=[]\n",
    "    all_data = {}\n",
    "    filtered_data = {}\n",
    "\n",
    "    for task in mi_tasks:\n",
    "        all_data[task] = {}\n",
    "        filtered_data[task] = {}    \n",
    "\n",
    "    for i in directories:\n",
    "        folders = os.listdir(directories[i])\n",
    "        count = 0\n",
    "        for w in range(len(folders)):\n",
    "            current_dir = directories[i] + '\\\\' + folders[w]\n",
    "            files = os.listdir(current_dir)\n",
    "            for file in files:\n",
    "                data = pd.read_csv(current_dir + '\\\\' + file, header = None)\n",
    "                eeg_data = data.iloc[1:,1:9]\n",
    "                if eeg_data.size >= 3250:\n",
    "                    for div in range(int(eeg_data.size//(eeg_data.shape[1]*unique))):\n",
    "                        if div*unique +samples <= eeg_data.size/eeg_data.shape[1]:\n",
    "                            all_data[i][count]= eeg_data[div*unique:div*unique + samples]\n",
    "                            if filtered:\n",
    "                                to_filter = all_data[i][count]\n",
    "                                filtered_data=pd.DataFrame(columns = range(0,eeg_data.shape[1]))\n",
    "                                for chan in range(to_filter.shape[1]):\n",
    "                                    notch_filtered_chan = signal.filtfilt(b,a,to_filter.iloc[:,chan], padtype='even')\n",
    "                                    filtered_chan = signal.filtfilt(d,c,notch_filtered_chan, padtype='even')\n",
    "                                    filtered_data[chan] = filtered_chan\n",
    "                                x.append(np.transpose(filtered_data.to_numpy()))\n",
    "                                    \n",
    "                            else:\n",
    "                                x.append(np.transpose(all_data[i][count].to_numpy()))\n",
    "                            \n",
    "                            y.append(i)\n",
    "                            count += 1\n",
    "\n",
    "                else:\n",
    "                    print('* not accepted *')\n",
    "                    print(file)\n",
    "    x=np.array(x)\n",
    "    x=x.reshape(x.shape[0],x.shape[1],x.shape[2],1)\n",
    "    y = list(map(map_labels,y))\n",
    "    x, y = shuffle(x,y, random_state=42)\n",
    "    return all_data, x, y"
   ]
  },
  {
   "cell_type": "code",
   "execution_count": 6,
   "metadata": {},
   "outputs": [],
   "source": [
    "train_data_folder = '05to20-08 Active 8chan FPZ Bias'\n",
    "test_data_folder = '23&24-08 Active 8chan FPZ Bias'"
   ]
  },
  {
   "cell_type": "code",
   "execution_count": 8,
   "metadata": {
    "scrolled": false
   },
   "outputs": [
    {
     "name": "stdout",
     "output_type": "stream",
     "text": [
      "(4336, 8, 500, 1)\n",
      "(1441, 8, 500, 1)\n"
     ]
    }
   ],
   "source": [
    "#Create training and validation datasets with 2 sec crops with 90% overlap\n",
    "train_data, x_train, y_train = create_data(train_data_folder, True, 500, 0.90, ['Left Hand', 'Right Hand'])\n",
    "test_data, x_test, y_test = create_data(test_data_folder, True, 500, 0.90, ['Left Hand', 'Right Hand'])\n",
    "print(x_train.shape)\n",
    "print(x_test.shape)"
   ]
  },
  {
   "cell_type": "code",
   "execution_count": 13,
   "metadata": {},
   "outputs": [],
   "source": [
    "###Class labels one-hot encoded\n",
    "y_cat_train = to_categorical(y_train)\n",
    "y_cat_test = to_categorical(y_test)"
   ]
  },
  {
   "cell_type": "code",
   "execution_count": 14,
   "metadata": {
    "scrolled": true
   },
   "outputs": [
    {
     "data": {
      "text/plain": [
       "array([[0., 1.],\n",
       "       [1., 0.],\n",
       "       [0., 1.],\n",
       "       ...,\n",
       "       [0., 1.],\n",
       "       [0., 1.],\n",
       "       [1., 0.]], dtype=float32)"
      ]
     },
     "execution_count": 14,
     "metadata": {},
     "output_type": "execute_result"
    }
   ],
   "source": [
    "y_cat_train"
   ]
  },
  {
   "cell_type": "code",
   "execution_count": 15,
   "metadata": {},
   "outputs": [
    {
     "data": {
      "text/plain": [
       "(4336, 8, 500, 1)"
      ]
     },
     "execution_count": 15,
     "metadata": {},
     "output_type": "execute_result"
    }
   ],
   "source": [
    "x_train.shape"
   ]
  },
  {
   "cell_type": "code",
   "execution_count": 17,
   "metadata": {},
   "outputs": [],
   "source": [
    "####  MODEL BUILDER with hyperparameter search spaces####\n",
    "def build_model(hp):\n",
    "    model = Sequential()\n",
    "    \n",
    "    hp_filters = hp.Int('Filters', min_value=10,max_value=160,step=10)\n",
    "    hp_kern_len = hp.Int('Kernel1 Length', min_value=10, max_value=250, step=10)\n",
    "    model.add(Conv2D(filters=hp_filters, kernel_size=(1,hp_kern_len), input_shape=(x_train.shape[1],x_train.shape[2],1))) #, activation = 'relu'))\n",
    "    model.add(Conv2D(filters=hp_filters, kernel_size=(8,1), activation = 'elu'))\n",
    "    hp_momentum = hp.Float('Momentum', min_value=0.05, max_value=0.95, step=0.05)\n",
    "    model.add(BatchNormalization(momentum=hp_momentum, epsilon = 1e-05))\n",
    "    model.add(Lambda(lambda x: x**2))\n",
    "    hp_pool_len = hp.Int('Pooling Length', min_value=10, max_value=250, step=10)\n",
    "    hp_strides = hp.Int('Pooling Strides', min_value = 5, max_value=50, step=5)\n",
    "    model.add(AveragePooling2D(pool_size=(1,hp_pool_len),strides=hp_strides))\n",
    "    \n",
    "    model.add(Lambda(lambda x: tf.math.log(tf.clip_by_value(x, 1e-6, inf))))\n",
    "    hp_dropout = hp.Float('Dropout Rate', min_value=0.1, max_value=0.9, step = 0.1)\n",
    "    model.add(Dropout(hp_dropout))\n",
    "    \n",
    "    '''model.add(Conv2D(filters=4, kernel_size=(1,69))) #, activation = 'relu'))       \n",
    "    \n",
    "    model.add(Softmax())\n",
    "    \n",
    "    model.add(Lambda(lambda x: tf.squeeze(x, [1,2])))'''  #equivalent to flattening which was used instead\n",
    "    \n",
    "    model.add(Flatten())\n",
    "    \n",
    "    model.add(Dense(2, activation = 'sigmoid'))  #Use softmax and categorical crossentropy for multi-class\n",
    "    \n",
    "    loss_fn = 'binary_crossentropy'\n",
    "    \n",
    "    hp_learn_rate = hp.Choice('Learning Rate', values=[1e-1,1e-2,1e-3,1e-4,1e-5,1e-6])\n",
    "    \n",
    "    \n",
    "    adam = tf.keras.optimizers.Adam(learning_rate=hp_learn_rate)\n",
    "    model.compile(loss = loss_fn, optimizer=adam, metrics=['accuracy'], )  # other metrics at keras.io/metrics\n",
    "\n",
    "    return model"
   ]
  },
  {
   "cell_type": "code",
   "execution_count": 18,
   "metadata": {},
   "outputs": [],
   "source": [
    "###Initialise tuner\n",
    "tuner = kt.Hyperband(build_model,\n",
    "                     objective = 'val_accuracy', \n",
    "                     max_epochs = 500,\n",
    "                     factor = 3,\n",
    "                     directory=os.getcwd(),\n",
    "                     project_name = 'TunedCNN-2classLHRH MI-ACTIVE 8chan') ###Folder name to save tuner"
   ]
  },
  {
   "cell_type": "code",
   "execution_count": 19,
   "metadata": {},
   "outputs": [
    {
     "name": "stdout",
     "output_type": "stream",
     "text": [
      "Search space summary\n",
      "Default search space size: 7\n",
      "Filters (Int)\n",
      "{'default': None, 'conditions': [], 'min_value': 10, 'max_value': 160, 'step': 10, 'sampling': None}\n",
      "Kernel1 Length (Int)\n",
      "{'default': None, 'conditions': [], 'min_value': 10, 'max_value': 250, 'step': 10, 'sampling': None}\n",
      "Momentum (Float)\n",
      "{'default': 0.05, 'conditions': [], 'min_value': 0.05, 'max_value': 0.95, 'step': 0.05, 'sampling': None}\n",
      "Pooling Length (Int)\n",
      "{'default': None, 'conditions': [], 'min_value': 10, 'max_value': 250, 'step': 10, 'sampling': None}\n",
      "Pooling Strides (Int)\n",
      "{'default': None, 'conditions': [], 'min_value': 5, 'max_value': 50, 'step': 5, 'sampling': None}\n",
      "Dropout Rate (Float)\n",
      "{'default': 0.1, 'conditions': [], 'min_value': 0.1, 'max_value': 0.9, 'step': 0.1, 'sampling': None}\n",
      "Learning Rate (Choice)\n",
      "{'default': 0.1, 'conditions': [], 'values': [0.1, 0.01, 0.001, 0.0001, 1e-05, 1e-06], 'ordered': True}\n"
     ]
    }
   ],
   "source": [
    "tuner.search_space_summary()"
   ]
  },
  {
   "cell_type": "code",
   "execution_count": 20,
   "metadata": {},
   "outputs": [],
   "source": [
    "early_stop = EarlyStopping(monitor='val_loss', patience=50, restore_best_weights=True)"
   ]
  },
  {
   "cell_type": "code",
   "execution_count": 21,
   "metadata": {
    "scrolled": true
   },
   "outputs": [
    {
     "name": "stdout",
     "output_type": "stream",
     "text": [
      "Trial 725 Complete [00h 08m 52s]\n",
      "val_accuracy: 0.5392088890075684\n",
      "\n",
      "Best val_accuracy So Far: 0.6044413447380066\n",
      "Total elapsed time: 03h 14m 27s\n",
      "INFO:tensorflow:Oracle triggered exit\n"
     ]
    }
   ],
   "source": [
    "###Begin tuning\n",
    "tuner.search(x_train,y_cat_train, epochs = 300, validation_data=(x_test,y_cat_test), callbacks = [early_stop], verbose=2)"
   ]
  },
  {
   "cell_type": "code",
   "execution_count": 22,
   "metadata": {},
   "outputs": [
    {
     "name": "stdout",
     "output_type": "stream",
     "text": [
      "Model: \"sequential\"\n",
      "_________________________________________________________________\n",
      "Layer (type)                 Output Shape              Param #   \n",
      "=================================================================\n",
      "conv2d (Conv2D)              (None, 8, 411, 150)       13650     \n",
      "_________________________________________________________________\n",
      "conv2d_1 (Conv2D)            (None, 1, 411, 150)       180150    \n",
      "_________________________________________________________________\n",
      "batch_normalization (BatchNo (None, 1, 411, 150)       600       \n",
      "_________________________________________________________________\n",
      "lambda (Lambda)              (None, 1, 411, 150)       0         \n",
      "_________________________________________________________________\n",
      "average_pooling2d (AveragePo (None, 1, 8, 150)         0         \n",
      "_________________________________________________________________\n",
      "lambda_1 (Lambda)            (None, 1, 8, 150)         0         \n",
      "_________________________________________________________________\n",
      "dropout (Dropout)            (None, 1, 8, 150)         0         \n",
      "_________________________________________________________________\n",
      "flatten (Flatten)            (None, 1200)              0         \n",
      "_________________________________________________________________\n",
      "dense (Dense)                (None, 2)                 2402      \n",
      "=================================================================\n",
      "Total params: 196,802\n",
      "Trainable params: 196,502\n",
      "Non-trainable params: 300\n",
      "_________________________________________________________________\n"
     ]
    }
   ],
   "source": [
    "###Acquire best model\n",
    "best_model = tuner.get_best_models(num_models=1)[0]\n",
    "best_model.summary()"
   ]
  },
  {
   "cell_type": "code",
   "execution_count": 23,
   "metadata": {},
   "outputs": [],
   "source": [
    "####How to get best parameters with examples\n",
    "best_hps = tuner.get_best_hyperparameters(num_trials=2)[0]"
   ]
  },
  {
   "cell_type": "code",
   "execution_count": 24,
   "metadata": {},
   "outputs": [
    {
     "data": {
      "text/plain": [
       "0.001"
      ]
     },
     "execution_count": 24,
     "metadata": {},
     "output_type": "execute_result"
    }
   ],
   "source": [
    "best_hps['Learning Rate']"
   ]
  },
  {
   "cell_type": "code",
   "execution_count": 25,
   "metadata": {},
   "outputs": [
    {
     "data": {
      "text/plain": [
       "0.05"
      ]
     },
     "execution_count": 25,
     "metadata": {},
     "output_type": "execute_result"
    }
   ],
   "source": [
    "best_hps['Momentum']"
   ]
  },
  {
   "cell_type": "code",
   "execution_count": 39,
   "metadata": {},
   "outputs": [
    {
     "name": "stdout",
     "output_type": "stream",
     "text": [
      "Results summary\n",
      "Results in C:\\Users\\Anthony\\OneDrive - University of Witwatersrand\\2020 MASTERS\\GUI\\TunedCNN-2classLHRH MI-ACTIVE 8chan\n",
      "Showing 10 best trials\n",
      "Objective(name='val_accuracy', direction='max')\n",
      "Trial summary\n",
      "Hyperparameters:\n",
      "Filters: 150\n",
      "Kernel1 Length: 90\n",
      "Momentum: 0.05\n",
      "Pooling Length: 130\n",
      "Pooling Strides: 40\n",
      "Dropout Rate: 0.30000000000000004\n",
      "Learning Rate: 0.001\n",
      "tuner/epochs: 19\n",
      "tuner/initial_epoch: 7\n",
      "tuner/bracket: 5\n",
      "tuner/round: 2\n",
      "tuner/trial_id: dfec56c6e03de71d17aee6a27cd0781d\n",
      "Score: 0.6044413447380066\n",
      "Trial summary\n",
      "Hyperparameters:\n",
      "Filters: 80\n",
      "Kernel1 Length: 70\n",
      "Momentum: 0.2\n",
      "Pooling Length: 190\n",
      "Pooling Strides: 35\n",
      "Dropout Rate: 0.6\n",
      "Learning Rate: 0.001\n",
      "tuner/epochs: 19\n",
      "tuner/initial_epoch: 7\n",
      "tuner/bracket: 4\n",
      "tuner/round: 1\n",
      "tuner/trial_id: a408ba021de35fc9c8e0a9683eef2df9\n",
      "Score: 0.6044413447380066\n",
      "Trial summary\n",
      "Hyperparameters:\n",
      "Filters: 90\n",
      "Kernel1 Length: 80\n",
      "Momentum: 0.55\n",
      "Pooling Length: 220\n",
      "Pooling Strides: 20\n",
      "Dropout Rate: 0.4\n",
      "Learning Rate: 0.0001\n",
      "tuner/epochs: 56\n",
      "tuner/initial_epoch: 19\n",
      "tuner/bracket: 5\n",
      "tuner/round: 3\n",
      "tuner/trial_id: 9e3d0321b513a36e11e286fb68a97e2d\n",
      "Score: 0.600971519947052\n",
      "Trial summary\n",
      "Hyperparameters:\n",
      "Filters: 130\n",
      "Kernel1 Length: 50\n",
      "Momentum: 0.8500000000000001\n",
      "Pooling Length: 140\n",
      "Pooling Strides: 45\n",
      "Dropout Rate: 0.6\n",
      "Learning Rate: 0.0001\n",
      "tuner/epochs: 500\n",
      "tuner/initial_epoch: 167\n",
      "tuner/bracket: 4\n",
      "tuner/round: 4\n",
      "tuner/trial_id: 3eec76d3c46aa3160c65548233ff7cf6\n",
      "Score: 0.5988896489143372\n",
      "Trial summary\n",
      "Hyperparameters:\n",
      "Filters: 60\n",
      "Kernel1 Length: 70\n",
      "Momentum: 0.6500000000000001\n",
      "Pooling Length: 50\n",
      "Pooling Strides: 25\n",
      "Dropout Rate: 0.30000000000000004\n",
      "Learning Rate: 0.001\n",
      "tuner/epochs: 167\n",
      "tuner/initial_epoch: 56\n",
      "tuner/bracket: 3\n",
      "tuner/round: 2\n",
      "tuner/trial_id: 781458e44312eecf937b22926b891eac\n",
      "Score: 0.5947259068489075\n",
      "Trial summary\n",
      "Hyperparameters:\n",
      "Filters: 60\n",
      "Kernel1 Length: 70\n",
      "Momentum: 0.6500000000000001\n",
      "Pooling Length: 50\n",
      "Pooling Strides: 25\n",
      "Dropout Rate: 0.30000000000000004\n",
      "Learning Rate: 0.001\n",
      "tuner/epochs: 56\n",
      "tuner/initial_epoch: 19\n",
      "tuner/bracket: 3\n",
      "tuner/round: 1\n",
      "tuner/trial_id: c21447fce22ad9bd6fc5d7a6e407c115\n",
      "Score: 0.5940319299697876\n",
      "Trial summary\n",
      "Hyperparameters:\n",
      "Filters: 60\n",
      "Kernel1 Length: 170\n",
      "Momentum: 0.7500000000000001\n",
      "Pooling Length: 40\n",
      "Pooling Strides: 35\n",
      "Dropout Rate: 0.2\n",
      "Learning Rate: 0.001\n",
      "tuner/epochs: 56\n",
      "tuner/initial_epoch: 19\n",
      "tuner/bracket: 3\n",
      "tuner/round: 1\n",
      "tuner/trial_id: dc6dab5868158b80c065753e0587632e\n",
      "Score: 0.5933379530906677\n",
      "Trial summary\n",
      "Hyperparameters:\n",
      "Filters: 60\n",
      "Kernel1 Length: 170\n",
      "Momentum: 0.7500000000000001\n",
      "Pooling Length: 40\n",
      "Pooling Strides: 35\n",
      "Dropout Rate: 0.2\n",
      "Learning Rate: 0.001\n",
      "tuner/epochs: 19\n",
      "tuner/initial_epoch: 0\n",
      "tuner/bracket: 3\n",
      "tuner/round: 0\n",
      "Score: 0.5926439762115479\n",
      "Trial summary\n",
      "Hyperparameters:\n",
      "Filters: 140\n",
      "Kernel1 Length: 90\n",
      "Momentum: 0.2\n",
      "Pooling Length: 150\n",
      "Pooling Strides: 35\n",
      "Dropout Rate: 0.7000000000000001\n",
      "Learning Rate: 0.001\n",
      "tuner/epochs: 56\n",
      "tuner/initial_epoch: 19\n",
      "tuner/bracket: 5\n",
      "tuner/round: 3\n",
      "tuner/trial_id: ecde6a55aee1b1dd3d097dba286ce6b6\n",
      "Score: 0.5919500589370728\n",
      "Trial summary\n",
      "Hyperparameters:\n",
      "Filters: 60\n",
      "Kernel1 Length: 230\n",
      "Momentum: 0.8\n",
      "Pooling Length: 220\n",
      "Pooling Strides: 45\n",
      "Dropout Rate: 0.5\n",
      "Learning Rate: 1e-05\n",
      "tuner/epochs: 7\n",
      "tuner/initial_epoch: 3\n",
      "tuner/bracket: 5\n",
      "tuner/round: 1\n",
      "tuner/trial_id: aa5818c1f280fc247fdde16496a92078\n",
      "Score: 0.5912560820579529\n"
     ]
    }
   ],
   "source": [
    "###summary of tuning results for 10 best models\n",
    "tuner.results_summary()   "
   ]
  }
 ],
 "metadata": {
  "kernelspec": {
   "display_name": "Python 3",
   "language": "python",
   "name": "python3"
  },
  "language_info": {
   "codemirror_mode": {
    "name": "ipython",
    "version": 3
   },
   "file_extension": ".py",
   "mimetype": "text/x-python",
   "name": "python",
   "nbconvert_exporter": "python",
   "pygments_lexer": "ipython3",
   "version": "3.7.4"
  }
 },
 "nbformat": 4,
 "nbformat_minor": 4
}
